{
 "cells": [
  {
   "cell_type": "markdown",
   "metadata": {},
   "source": [
    "## BIL462 Project Source Codes | 2024-2025 Fall | Context: Iris Recognition on UBIRIS.v2 Dataset"
   ]
  },
  {
   "cell_type": "markdown",
   "metadata": {},
   "source": [
    "#### Step1: Sentetic Noise Addition (Image Processing)"
   ]
  },
  {
   "cell_type": "code",
   "execution_count": null,
   "metadata": {},
   "outputs": [],
   "source": [
    "%pip install tqdm\n",
    "\n",
    "import os\n",
    "import cv2\n",
    "import numpy as np\n",
    "from tqdm import tqdm"
   ]
  },
  {
   "cell_type": "code",
   "execution_count": 2,
   "metadata": {},
   "outputs": [],
   "source": [
    "# Hareket Bulanıklığı\n",
    "def add_motion_blur(image, kernel_size=15):\n",
    "    \"\"\"\n",
    "    Görüntüye hareket bulanıklığı uygula.\n",
    "    \"\"\"\n",
    "    kernel = np.zeros((kernel_size, kernel_size))\n",
    "    kernel[int((kernel_size - 1) / 2), :] = np.ones(kernel_size)\n",
    "    kernel = kernel / kernel_size\n",
    "    blurred = cv2.filter2D(image, -1, kernel)\n",
    "    return blurred\n",
    "\n",
    "# Düşük Işık Simülasyonu (Gamma Düzeltme)\n",
    "def apply_low_light(image, gamma=0.3):\n",
    "    \"\"\"\n",
    "    Düşük ışık koşullarını simüle etmek için gamma düzeltmesi uygula.\n",
    "    \"\"\"\n",
    "    inv_gamma = 1.0 / gamma\n",
    "    table = np.array([((i / 255.0) ** inv_gamma) * 255 for i in range(256)]).astype(\"uint8\")\n",
    "    low_light_image = cv2.LUT(image, table)\n",
    "    return low_light_image\n",
    "\n",
    "# Veri seti yollarını tanımla\n",
    "input_folder = \"CLASSES_400_300\"  # Orijinal görüntülerin bulunduğu klasör\n",
    "output_folder = \"CLASSES_400_300_noised\"  # Gürültü eklenmiş görüntülerin kaydedileceği klasör\n",
    "\n",
    "# Çıkış klasörünü oluştur\n",
    "os.makedirs(output_folder, exist_ok=True)"
   ]
  },
  {
   "cell_type": "code",
   "execution_count": null,
   "metadata": {},
   "outputs": [],
   "source": [
    "# Tüm görüntülere filtre uygula\n",
    "motion_blur_count = 0\n",
    "low_light_count = 0\n",
    "both_count = 0\n",
    "\n",
    "for image_name in tqdm(os.listdir(input_folder)):\n",
    "    image_path = os.path.join(input_folder, image_name)\n",
    "    image = cv2.imread(image_path, cv2.IMREAD_COLOR)\n",
    "    if image is None:\n",
    "        print(f\"Error reading image {image_path}\")\n",
    "        continue\n",
    "    noisy_image = image.copy()\n",
    "\n",
    "    filters = np.random.choice([\"motion_blur\", \"low_light\", \"both\"], p=[0.4, 0.4, 0.2])\n",
    "\n",
    "    if filters == \"motion_blur\":\n",
    "        noisy_image = add_motion_blur(noisy_image, kernel_size=15)\n",
    "        motion_blur_count += 1\n",
    "    elif filters == \"low_light\":\n",
    "        noisy_image = apply_low_light(noisy_image, gamma=0.4)\n",
    "        low_light_count += 1\n",
    "    else:  # both\n",
    "        noisy_image = add_motion_blur(noisy_image, kernel_size=15)\n",
    "        noisy_image = apply_low_light(noisy_image, gamma=0.4)\n",
    "        both_count += 1\n",
    "\n",
    "    output_path = os.path.join(output_folder, image_name)\n",
    "    cv2.imwrite(output_path, noisy_image)\n",
    "\n",
    "total_images = len(os.listdir(input_folder))\n",
    "print(\"Gürültü eklenmiş görüntüler başarıyla oluşturuldu.\")\n",
    "print(\"Görüntü sayısı:\", total_images)\n",
    "print(\"Çıkış klasörü:\", output_folder)\n",
    "print(\"Filtre Uygulanma Oranı (motion_blur):\", motion_blur_count / total_images)\n",
    "print(\"Filtre Uygulanma Oranı (low_light):\", low_light_count / total_images)\n",
    "print(\"Filtre Uygulanma Oranı (both):\", both_count / total_images)\n",
    "                                                                                                "
   ]
  },
  {
   "cell_type": "markdown",
   "metadata": {},
   "source": [
    "#### Step2: Data Augmentation"
   ]
  },
  {
   "cell_type": "code",
   "execution_count": null,
   "metadata": {},
   "outputs": [],
   "source": [
    "import numpy as np\n",
    "import glob\n",
    "import cv2\n",
    "import os\n",
    "\n",
    "# Pathler\n",
    "input_folder = r\"CLASSES_400_300\"\n",
    "output_folder = r\"CLASSES_400_300_augmented\"\n",
    "os.makedirs(output_folder, exist_ok=True)\n",
    "\n",
    "# Fonksiyonlar\n",
    "def rotate_image(image, label, number):\n",
    "    rotated_image = cv2.rotate(image, cv2.ROTATE_90_CLOCKWISE)\n",
    "    output_path = os.path.join(output_folder, f\"{label}_rotate_{number}.jpg\")\n",
    "    cv2.imwrite(output_path, rotated_image)\n",
    "\n",
    "def flip_image(image, direction, label, number):\n",
    "    flipped_image = cv2.flip(image, direction)\n",
    "    output_path = os.path.join(output_folder, f\"{label}_flip_{direction}_{number}.jpg\")\n",
    "    cv2.imwrite(output_path, flipped_image)\n",
    "\n",
    "def add_light(image, gamma, label, number):\n",
    "    inv_gamma = 1.0 / gamma\n",
    "    table = np.array([((i / 255.0) ** inv_gamma) * 255 for i in np.arange(0, 256)]).astype(\"uint8\")\n",
    "    brightened_image = cv2.LUT(image, table)\n",
    "    output_path = os.path.join(output_folder, f\"{label}_light_{gamma}_{number}.jpg\")\n",
    "    cv2.imwrite(output_path, brightened_image)\n",
    "\n",
    "# Veri artırımı fonksiyonu\n",
    "def augment_images(input_folder, percentage):\n",
    "    \"\"\"\n",
    "    Belirtilen klasördeki görüntüleri artırır ve belirtilen yüzde kadar yeni görüntü üretir.\n",
    "    Args:\n",
    "        input_folder (str): Girdi görüntülerinin bulunduğu klasör yolu.\n",
    "        percentage (float): Üretilecek yeni görüntülerin yüzdesi.\n",
    "    Returns:\n",
    "        None\n",
    "    İşlem:\n",
    "        - Girdi klasöründeki tüm .tiff dosyalarını alır.\n",
    "        - Toplam görüntü sayısına göre hedeflenen yeni görüntü sayısını hesaplar.\n",
    "        - Her bir görüntü için veri artırımı işlemleri gerçekleştirir:\n",
    "            - Görüntüyü döndürme\n",
    "            - Görüntüyü çevirme\n",
    "            - Görüntünün parlaklığını artırma\n",
    "            - Görüntünün parlaklığını azaltma\n",
    "        - Belirtilen yüzdeye ulaşıldığında işlemi durdurur.\n",
    "        - Üretilen görüntü sayısını ve yüzdesini ekrana yazdırır.\n",
    "    \"\"\"\n",
    "    images = glob.glob(os.path.join(input_folder, \"*.tiff\"))\n",
    "    total_images = len(images)\n",
    "    target_count = int(total_images * (percentage / 100))  # Yüzdelik hedef sayısı\n",
    "    count = 0\n",
    "    \n",
    "    for filepath in images:\n",
    "        if count >= target_count:  # Belirtilen yüzdeye ulaşıldığında dur\n",
    "            break\n",
    "        \n",
    "        filename = os.path.basename(filepath)\n",
    "        image = cv2.imread(filepath)\n",
    "        label = os.path.splitext(filename)[0]  # Dosya adı etiketi\n",
    "\n",
    "        # Veri artırımı işlemleri\n",
    "        rotate_image(image, label, count)\n",
    "        count += 1\n",
    "        if count >= target_count: break\n",
    "        \n",
    "        flip_image(image, 0, label, count)\n",
    "        count += 1\n",
    "        if count >= target_count: break\n",
    "        \n",
    "        add_light(image, 1.5, label, count)\n",
    "        count += 1\n",
    "        if count >= target_count: break\n",
    "        \n",
    "        add_light(image, 0.7, label, count)\n",
    "        count += 1\n",
    "        if count >= target_count: break\n",
    "    \n",
    "    print(f\"{count} görüntü (%{percentage}) başarıyla üretildi ve kaydedildi.\")\n",
    "\n",
    "# Kullanıcıdan yüzdelik N değeri\n",
    "N = 20  # Örneğin, toplam görüntülerin %20'si kadar üretim yapılacak\n",
    "augment_images(input_folder, N)"
   ]
  },
  {
   "cell_type": "markdown",
   "metadata": {},
   "source": [
    "#### Step3: Image Enhancement (DeepLearning)"
   ]
  },
  {
   "cell_type": "code",
   "execution_count": null,
   "metadata": {},
   "outputs": [],
   "source": [
    "%pip install torch torchvision scikit-image\n",
    "\n",
    "import os\n",
    "import cv2\n",
    "import numpy as np\n",
    "from tqdm import tqdm\n",
    "import torch\n",
    "import torch.nn as nn\n",
    "import torch.optim as optim\n",
    "from torchvision import transforms, models\n",
    "from torch.utils.data import Dataset, DataLoader, random_split\n",
    "import torch.nn.functional as F\n",
    "import matplotlib.pyplot as plt\n",
    "from skimage.metrics import structural_similarity as ssim"
   ]
  },
  {
   "cell_type": "code",
   "execution_count": 5,
   "metadata": {},
   "outputs": [],
   "source": [
    "# Dataset Tanımı\n",
    "class NoiseReductionDataset(Dataset):\n",
    "    def __init__(self, noisy_folder, original_folder, transform=None):\n",
    "        self.noisy_images = sorted(os.listdir(noisy_folder))\n",
    "        self.original_images = sorted(os.listdir(original_folder))\n",
    "        self.noisy_folder = noisy_folder\n",
    "        self.original_folder = original_folder\n",
    "        self.transform = transform\n",
    "\n",
    "    def __len__(self):\n",
    "        return len(self.noisy_images)\n",
    "\n",
    "    def __getitem__(self, idx):\n",
    "        noisy_path = os.path.join(self.noisy_folder, self.noisy_images[idx])\n",
    "        original_path = os.path.join(self.original_folder, self.original_images[idx])\n",
    "\n",
    "        noisy_image = cv2.imread(noisy_path, cv2.IMREAD_COLOR)\n",
    "        original_image = cv2.imread(original_path, cv2.IMREAD_COLOR)\n",
    "\n",
    "        if self.transform:\n",
    "            noisy_image = self.transform(noisy_image)\n",
    "            original_image = self.transform(original_image)\n",
    "\n",
    "        return noisy_image, original_image, os.path.basename(noisy_path)\n",
    "\n",
    "# Dataset Dönüşümleri\n",
    "transform = transforms.Compose([\n",
    "    transforms.ToPILImage(),\n",
    "    transforms.ToTensor(),\n",
    "])\n",
    "\n",
    "# Dataset ve DataLoader\n",
    "noisy_folder = \"CLASSES_400_300_noised\"\n",
    "original_folder = \"CLASSES_400_300\"\n",
    "dataset = NoiseReductionDataset(noisy_folder, original_folder, transform=transform)"
   ]
  },
  {
   "cell_type": "code",
   "execution_count": 6,
   "metadata": {},
   "outputs": [],
   "source": [
    "# Verileri Train/Validation/Test Split Yapma\n",
    "train_size = int(0.7 * len(dataset))\n",
    "val_size = int(0.15 * len(dataset))\n",
    "test_size = len(dataset) - train_size - val_size\n",
    "\n",
    "train_dataset, val_dataset, test_dataset = random_split(dataset, [train_size, val_size, test_size])\n",
    "\n",
    "train_loader = DataLoader(train_dataset, batch_size=8, shuffle=True)\n",
    "val_loader = DataLoader(val_dataset, batch_size=8, shuffle=False)\n",
    "test_loader = DataLoader(test_dataset, batch_size=8, shuffle=False)"
   ]
  },
  {
   "cell_type": "code",
   "execution_count": 7,
   "metadata": {},
   "outputs": [],
   "source": [
    "# DenseNet Encoder ve Karmaşık Decoder Modeli\n",
    "class DenseNetModel(nn.Module):\n",
    "    def __init__(self):\n",
    "        super(DenseNetModel, self).__init__()\n",
    "        self.encoder = models.densenet121(weights=models.DenseNet121_Weights.IMAGENET1K_V1).features\n",
    "        self.decoder = nn.Sequential(\n",
    "            nn.ConvTranspose2d(1024, 512, kernel_size=3, stride=2, padding=1, output_padding=1),\n",
    "            nn.ReLU(),\n",
    "            nn.Conv2d(512, 256, kernel_size=3, padding=1), nn.ReLU(),\n",
    "            nn.ConvTranspose2d(256, 128, kernel_size=3, stride=2, padding=1, output_padding=1),\n",
    "            nn.ReLU(),\n",
    "            nn.Conv2d(128, 64, kernel_size=3, padding=1), nn.ReLU(),\n",
    "            nn.ConvTranspose2d(64, 3, kernel_size=3, stride=2, padding=1, output_padding=1),\n",
    "            nn.Tanh()  # Renk bozulmalarını azaltmak için\n",
    "        )\n",
    "\n",
    "    def forward(self, x):\n",
    "        original_size = x.size()[2:]  # Giriş boyutlarını kaydet\n",
    "        x = self.encoder(x)  # Encoder işlemi\n",
    "        x = self.decoder(x)  # Decoder işlemi\n",
    "        x = F.interpolate(x, size=original_size, mode=\"bilinear\", align_corners=False)  # Giriş boyutlarına geri döndür\n",
    "        return x\n",
    "\n",
    "# Kayıp Fonksiyonu (MSE + SSIM)\n",
    "class CombinedLoss(nn.Module):\n",
    "    def __init__(self, data_range=1.0):\n",
    "        super(CombinedLoss, self).__init__()\n",
    "        self.mse = nn.MSELoss()\n",
    "        self.data_range = data_range\n",
    "\n",
    "    def forward(self, outputs, targets):\n",
    "        # MSE kaybı\n",
    "        mse_loss = self.mse(outputs, targets)\n",
    "        \n",
    "        # NumPy dizilerine dönüştürme\n",
    "        outputs_np = outputs.detach().cpu().numpy()\n",
    "        targets_np = targets.cpu().numpy()\n",
    "        \n",
    "        # SSIM hesabı (data_range parametresi eklendi)\n",
    "        ssim_loss = np.mean([\n",
    "            1 - ssim(\n",
    "                targets_np[i].transpose(1, 2, 0),\n",
    "                outputs_np[i].transpose(1, 2, 0),\n",
    "                channel_axis=-1,\n",
    "                data_range=self.data_range\n",
    "            )\n",
    "            for i in range(len(outputs_np))\n",
    "        ])\n",
    "        \n",
    "        return mse_loss + 0.5 * ssim_loss\n",
    "\n",
    "# PSNR Hesaplama Fonksiyonu\n",
    "def calculate_psnr(mse):\n",
    "    return 20 * np.log10(1.0 / np.sqrt(mse))\n"
   ]
  },
  {
   "cell_type": "code",
   "execution_count": 8,
   "metadata": {},
   "outputs": [
    {
     "name": "stdout",
     "output_type": "stream",
     "text": [
      "Torch Version: 2.5.1+cu124 , CUDA Available: True\n"
     ]
    }
   ],
   "source": [
    "# For using GPU - CUDA\n",
    "# %pip3 install torch torchvision torchaudio --index-url https://download.pytorch.org/whl/cu124\n",
    "\n",
    "# Model, Loss Fonksiyonu ve Optimizasyon\n",
    "device = torch.device(\"cuda\" if torch.cuda.is_available() else \"cpu\")\n",
    "model = DenseNetModel().to(device)\n",
    "criterion = CombinedLoss()\n",
    "optimizer = optim.Adam(model.parameters(), lr=0.0001)\n",
    "scheduler = optim.lr_scheduler.ReduceLROnPlateau(optimizer, 'min', patience=3, factor=0.5)\n",
    "print(\"Torch Version:\", torch.__version__, \", CUDA Available:\", torch.cuda.is_available())\n",
    "\n",
    "# Eğitim ve Metrik Kayıtları\n",
    "train_mse, val_mse = [], []\n",
    "train_ssim, val_ssim = [], []\n",
    "train_psnr, val_psnr = [], []"
   ]
  },
  {
   "cell_type": "code",
   "execution_count": 9,
   "metadata": {},
   "outputs": [
    {
     "name": "stderr",
     "output_type": "stream",
     "text": [
      "100%|██████████| 972/972 [08:06<00:00,  2.00it/s]\n"
     ]
    },
    {
     "name": "stdout",
     "output_type": "stream",
     "text": [
      "Epoch [1/20] - Train MSE: 0.2137, Val MSE: 0.1824, Train SSIM: 0.5906, Val SSIM: 0.6458, Train PSNR: 6.82, Val PSNR: 7.40\n"
     ]
    },
    {
     "name": "stderr",
     "output_type": "stream",
     "text": [
      "100%|██████████| 972/972 [07:43<00:00,  2.10it/s]\n"
     ]
    },
    {
     "name": "stdout",
     "output_type": "stream",
     "text": [
      "Epoch [2/20] - Train MSE: 0.1691, Val MSE: 0.1598, Train SSIM: 0.6704, Val SSIM: 0.6859, Train PSNR: 7.73, Val PSNR: 7.98\n"
     ]
    },
    {
     "name": "stderr",
     "output_type": "stream",
     "text": [
      "100%|██████████| 972/972 [07:23<00:00,  2.19it/s]\n"
     ]
    },
    {
     "name": "stdout",
     "output_type": "stream",
     "text": [
      "Epoch [3/20] - Train MSE: 0.1592, Val MSE: 0.1547, Train SSIM: 0.6884, Val SSIM: 0.6962, Train PSNR: 7.99, Val PSNR: 8.12\n"
     ]
    },
    {
     "name": "stderr",
     "output_type": "stream",
     "text": [
      "100%|██████████| 972/972 [07:16<00:00,  2.23it/s]\n"
     ]
    },
    {
     "name": "stdout",
     "output_type": "stream",
     "text": [
      "Epoch [4/20] - Train MSE: 0.1532, Val MSE: 0.1535, Train SSIM: 0.6996, Val SSIM: 0.7003, Train PSNR: 8.16, Val PSNR: 8.15\n"
     ]
    },
    {
     "name": "stderr",
     "output_type": "stream",
     "text": [
      "100%|██████████| 972/972 [07:14<00:00,  2.24it/s]\n"
     ]
    },
    {
     "name": "stdout",
     "output_type": "stream",
     "text": [
      "Epoch [5/20] - Train MSE: 0.1484, Val MSE: 0.1452, Train SSIM: 0.7084, Val SSIM: 0.7139, Train PSNR: 8.30, Val PSNR: 8.39\n"
     ]
    },
    {
     "name": "stderr",
     "output_type": "stream",
     "text": [
      "100%|██████████| 972/972 [07:06<00:00,  2.28it/s]\n"
     ]
    },
    {
     "name": "stdout",
     "output_type": "stream",
     "text": [
      "Epoch [6/20] - Train MSE: 0.1451, Val MSE: 0.1434, Train SSIM: 0.7146, Val SSIM: 0.7179, Train PSNR: 8.40, Val PSNR: 8.45\n"
     ]
    },
    {
     "name": "stderr",
     "output_type": "stream",
     "text": [
      "100%|██████████| 972/972 [07:08<00:00,  2.27it/s]\n"
     ]
    },
    {
     "name": "stdout",
     "output_type": "stream",
     "text": [
      "Epoch [7/20] - Train MSE: 0.1427, Val MSE: 0.1391, Train SSIM: 0.7192, Val SSIM: 0.7254, Train PSNR: 8.47, Val PSNR: 8.58\n"
     ]
    },
    {
     "name": "stderr",
     "output_type": "stream",
     "text": [
      "100%|██████████| 972/972 [07:04<00:00,  2.29it/s]\n"
     ]
    },
    {
     "name": "stdout",
     "output_type": "stream",
     "text": [
      "Epoch [8/20] - Train MSE: 0.1398, Val MSE: 0.1369, Train SSIM: 0.7246, Val SSIM: 0.7295, Train PSNR: 8.56, Val PSNR: 8.65\n"
     ]
    },
    {
     "name": "stderr",
     "output_type": "stream",
     "text": [
      "100%|██████████| 972/972 [07:24<00:00,  2.19it/s]\n"
     ]
    },
    {
     "name": "stdout",
     "output_type": "stream",
     "text": [
      "Epoch [9/20] - Train MSE: 0.1383, Val MSE: 0.1352, Train SSIM: 0.7275, Val SSIM: 0.7327, Train PSNR: 8.60, Val PSNR: 8.70\n"
     ]
    },
    {
     "name": "stderr",
     "output_type": "stream",
     "text": [
      "100%|██████████| 972/972 [07:09<00:00,  2.26it/s]\n"
     ]
    },
    {
     "name": "stdout",
     "output_type": "stream",
     "text": [
      "Epoch [10/20] - Train MSE: 0.1356, Val MSE: 0.1345, Train SSIM: 0.7323, Val SSIM: 0.7345, Train PSNR: 8.69, Val PSNR: 8.73\n"
     ]
    },
    {
     "name": "stderr",
     "output_type": "stream",
     "text": [
      "100%|██████████| 972/972 [07:02<00:00,  2.30it/s]\n"
     ]
    },
    {
     "name": "stdout",
     "output_type": "stream",
     "text": [
      "Epoch [11/20] - Train MSE: 0.1343, Val MSE: 0.1328, Train SSIM: 0.7349, Val SSIM: 0.7376, Train PSNR: 8.73, Val PSNR: 8.78\n"
     ]
    },
    {
     "name": "stderr",
     "output_type": "stream",
     "text": [
      "100%|██████████| 972/972 [07:03<00:00,  2.30it/s]\n"
     ]
    },
    {
     "name": "stdout",
     "output_type": "stream",
     "text": [
      "Epoch [12/20] - Train MSE: 0.1330, Val MSE: 0.1329, Train SSIM: 0.7376, Val SSIM: 0.7380, Train PSNR: 8.77, Val PSNR: 8.78\n"
     ]
    },
    {
     "name": "stderr",
     "output_type": "stream",
     "text": [
      "100%|██████████| 972/972 [06:58<00:00,  2.32it/s]\n"
     ]
    },
    {
     "name": "stdout",
     "output_type": "stream",
     "text": [
      "Epoch [13/20] - Train MSE: 0.1322, Val MSE: 0.1300, Train SSIM: 0.7391, Val SSIM: 0.7428, Train PSNR: 8.80, Val PSNR: 8.87\n"
     ]
    },
    {
     "name": "stderr",
     "output_type": "stream",
     "text": [
      "100%|██████████| 972/972 [07:20<00:00,  2.21it/s]\n"
     ]
    },
    {
     "name": "stdout",
     "output_type": "stream",
     "text": [
      "Epoch [14/20] - Train MSE: 0.1308, Val MSE: 0.1290, Train SSIM: 0.7417, Val SSIM: 0.7449, Train PSNR: 8.85, Val PSNR: 8.91\n"
     ]
    },
    {
     "name": "stderr",
     "output_type": "stream",
     "text": [
      "100%|██████████| 972/972 [07:07<00:00,  2.27it/s]\n"
     ]
    },
    {
     "name": "stdout",
     "output_type": "stream",
     "text": [
      "Epoch [15/20] - Train MSE: 0.1297, Val MSE: 0.1277, Train SSIM: 0.7439, Val SSIM: 0.7472, Train PSNR: 8.88, Val PSNR: 8.95\n"
     ]
    },
    {
     "name": "stderr",
     "output_type": "stream",
     "text": [
      "100%|██████████| 972/972 [06:58<00:00,  2.32it/s]\n"
     ]
    },
    {
     "name": "stdout",
     "output_type": "stream",
     "text": [
      "Epoch [16/20] - Train MSE: 0.1281, Val MSE: 0.1303, Train SSIM: 0.7467, Val SSIM: 0.7436, Train PSNR: 8.94, Val PSNR: 8.86\n"
     ]
    },
    {
     "name": "stderr",
     "output_type": "stream",
     "text": [
      "100%|██████████| 972/972 [07:05<00:00,  2.28it/s]\n"
     ]
    },
    {
     "name": "stdout",
     "output_type": "stream",
     "text": [
      "Epoch [17/20] - Train MSE: 0.1278, Val MSE: 0.1286, Train SSIM: 0.7475, Val SSIM: 0.7467, Train PSNR: 8.95, Val PSNR: 8.92\n"
     ]
    },
    {
     "name": "stderr",
     "output_type": "stream",
     "text": [
      "100%|██████████| 972/972 [07:11<00:00,  2.25it/s]\n"
     ]
    },
    {
     "name": "stdout",
     "output_type": "stream",
     "text": [
      "Epoch [18/20] - Train MSE: 0.1267, Val MSE: 0.1265, Train SSIM: 0.7496, Val SSIM: 0.7503, Train PSNR: 8.99, Val PSNR: 8.99\n"
     ]
    },
    {
     "name": "stderr",
     "output_type": "stream",
     "text": [
      "100%|██████████| 972/972 [07:02<00:00,  2.30it/s]\n"
     ]
    },
    {
     "name": "stdout",
     "output_type": "stream",
     "text": [
      "Epoch [19/20] - Train MSE: 0.1254, Val MSE: 0.1251, Train SSIM: 0.7520, Val SSIM: 0.7525, Train PSNR: 9.03, Val PSNR: 9.04\n"
     ]
    },
    {
     "name": "stderr",
     "output_type": "stream",
     "text": [
      "100%|██████████| 972/972 [07:05<00:00,  2.29it/s]\n"
     ]
    },
    {
     "name": "stdout",
     "output_type": "stream",
     "text": [
      "Epoch [20/20] - Train MSE: 0.1244, Val MSE: 0.1238, Train SSIM: 0.7539, Val SSIM: 0.7550, Train PSNR: 9.06, Val PSNR: 9.09\n"
     ]
    }
   ],
   "source": [
    "# Eğitim Döngüsü\n",
    "num_epochs = 20\n",
    "best_val_loss = float(\"inf\")\n",
    "\n",
    "for epoch in range(num_epochs):\n",
    "    model.train()\n",
    "    epoch_train_mse, epoch_train_ssim, epoch_train_psnr = 0, 0, 0\n",
    "\n",
    "    for noisy_images, original_images, _ in tqdm(train_loader):\n",
    "        noisy_images = noisy_images.to(device)\n",
    "        original_images = original_images.to(device)\n",
    "\n",
    "        # Tahmin ve kayıp hesaplama\n",
    "        outputs = model(noisy_images)\n",
    "        loss = criterion(outputs, original_images)\n",
    "\n",
    "        # Geri yayılım\n",
    "        optimizer.zero_grad()\n",
    "        loss.backward()\n",
    "        optimizer.step()\n",
    "\n",
    "        # Metrik hesaplama\n",
    "        epoch_train_mse += loss.item()\n",
    "        outputs_np = outputs.detach().cpu().numpy()\n",
    "        original_np = original_images.cpu().numpy()\n",
    "\n",
    "        batch_ssim = np.mean([\n",
    "            ssim(original_np[i].transpose(1, 2, 0),\n",
    "                outputs_np[i].transpose(1, 2, 0),\n",
    "                channel_axis=-1,\n",
    "                data_range=1.0)\n",
    "            for i in range(len(outputs_np))\n",
    "        ])\n",
    "        epoch_train_ssim += batch_ssim\n",
    "\n",
    "        batch_psnr = calculate_psnr(loss.item())\n",
    "        epoch_train_psnr += batch_psnr\n",
    "\n",
    "    # Ortalama değerler\n",
    "    train_mse.append(epoch_train_mse / len(train_loader))\n",
    "    train_ssim.append(epoch_train_ssim / len(train_loader))\n",
    "    train_psnr.append(epoch_train_psnr / len(train_loader))\n",
    "\n",
    "    # Doğrulama Performansı\n",
    "    model.eval()\n",
    "    epoch_val_mse, epoch_val_ssim, epoch_val_psnr = 0, 0, 0\n",
    "    with torch.no_grad():\n",
    "        for noisy_images, original_images, _ in val_loader:\n",
    "            noisy_images = noisy_images.to(device)\n",
    "            original_images = original_images.to(device)\n",
    "\n",
    "            outputs = model(noisy_images)\n",
    "            loss = criterion(outputs, original_images)\n",
    "\n",
    "            epoch_val_mse += loss.item()\n",
    "            outputs_np = outputs.cpu().numpy()\n",
    "            original_np = original_images.cpu().numpy()\n",
    "\n",
    "            batch_ssim = np.mean([\n",
    "                ssim(original_np[i].transpose(1, 2, 0),\n",
    "                    outputs_np[i].transpose(1, 2, 0),\n",
    "                    channel_axis=-1,\n",
    "                    data_range=1.0)  # Make sure your data is indeed scaled to [0,1]\n",
    "                for i in range(len(outputs_np))\n",
    "            ])\n",
    "            epoch_val_ssim += batch_ssim\n",
    "\n",
    "            batch_psnr = calculate_psnr(loss.item())\n",
    "            epoch_val_psnr += batch_psnr\n",
    "\n",
    "    val_mse.append(epoch_val_mse / len(val_loader))\n",
    "    val_ssim.append(epoch_val_ssim / len(val_loader))\n",
    "    val_psnr.append(epoch_val_psnr / len(val_loader))\n",
    "\n",
    "    scheduler.step(val_mse[-1])\n",
    "\n",
    "    print(f\"Epoch [{epoch + 1}/{num_epochs}] - Train MSE: {train_mse[-1]:.4f}, Val MSE: {val_mse[-1]:.4f}, \"\n",
    "          f\"Train SSIM: {train_ssim[-1]:.4f}, Val SSIM: {val_ssim[-1]:.4f}, \"\n",
    "          f\"Train PSNR: {train_psnr[-1]:.2f}, Val PSNR: {val_psnr[-1]:.2f}\")\n",
    "\n",
    "    if val_mse[-1] < best_val_loss:\n",
    "        best_val_loss = val_mse[-1]\n",
    "        torch.save(model.state_dict(), \"best_densenet_model.pth\")"
   ]
  },
  {
   "cell_type": "code",
   "execution_count": 11,
   "metadata": {},
   "outputs": [
    {
     "name": "stderr",
     "output_type": "stream",
     "text": [
      "100%|██████████| 209/209 [01:25<00:00,  2.44it/s]"
     ]
    },
    {
     "name": "stdout",
     "output_type": "stream",
     "text": [
      "Test MSE: 0.1248, Test SSIM: 0.7532, Test PSNR: 9.05\n"
     ]
    },
    {
     "name": "stderr",
     "output_type": "stream",
     "text": [
      "\n"
     ]
    }
   ],
   "source": [
    "# Test Performansı\n",
    "model.load_state_dict(torch.load(\"best_densenet_model.pth\", weights_only=True))\n",
    "model.eval()\n",
    "test_mse, test_ssim, test_psnr = 0, 0, 0\n",
    "\n",
    "denoised_folder = \"CLASSES_400_300_denoised\"\n",
    "os.makedirs(denoised_folder, exist_ok=True)\n",
    "\n",
    "with torch.no_grad():\n",
    "    for noisy_images, original_images, file_names in tqdm(test_loader):\n",
    "        noisy_images = noisy_images.to(device)\n",
    "        original_images = original_images.to(device)\n",
    "\n",
    "        outputs = model(noisy_images)\n",
    "        loss = criterion(outputs, original_images)\n",
    "\n",
    "        test_mse += loss.item()\n",
    "        outputs_np = outputs.cpu().numpy()\n",
    "        original_np = original_images.cpu().numpy()\n",
    "\n",
    "        batch_ssim = np.mean([\n",
    "            ssim(original_np[i].transpose(1, 2, 0),\n",
    "                outputs_np[i].transpose(1, 2, 0),\n",
    "                channel_axis=-1,\n",
    "                data_range=1.0)\n",
    "            for i in range(len(outputs_np))\n",
    "        ])\n",
    "        test_ssim += batch_ssim\n",
    "\n",
    "        batch_psnr = calculate_psnr(loss.item())\n",
    "        test_psnr += batch_psnr\n",
    "\n",
    "        for i in range(outputs_np.shape[0]):\n",
    "            restored = np.clip((outputs_np[i].transpose(1, 2, 0) * 255), 0, 255).astype(np.uint8)\n",
    "            file_name = file_names[i]\n",
    "            output_path = os.path.join(denoised_folder, file_name)\n",
    "            cv2.imwrite(output_path, restored)\n",
    "\n",
    "test_mse /= len(test_loader)\n",
    "test_ssim /= len(test_loader)\n",
    "test_psnr /= len(test_loader)\n",
    "\n",
    "print(f\"Test MSE: {test_mse:.4f}, Test SSIM: {test_ssim:.4f}, Test PSNR: {test_psnr:.2f}\")"
   ]
  },
  {
   "cell_type": "code",
   "execution_count": 12,
   "metadata": {},
   "outputs": [
    {
     "data": {
      "image/png": "[encoded data removed]",
      "text/plain": [
       "<Figure size 1800x600 with 3 Axes>"
      ]
     },
     "metadata": {},
     "output_type": "display_data"
    }
   ],
   "source": [
    "# Kayıp ve Metrik Grafiklerini Çiz\n",
    "plt.figure(figsize=(18, 6))\n",
    "plt.subplot(1, 3, 1)\n",
    "plt.plot(train_mse, label=\"Train MSE\", marker=\"o\")\n",
    "plt.plot(val_mse, label=\"Validation MSE\", marker=\"o\")\n",
    "plt.title(\"Train and Validation MSE\")\n",
    "plt.xlabel(\"Epoch\")\n",
    "plt.ylabel(\"MSE\")\n",
    "plt.legend()\n",
    "plt.grid()\n",
    "\n",
    "plt.subplot(1, 3, 2)\n",
    "plt.plot(train_ssim, label=\"Train SSIM\", marker=\"o\")\n",
    "plt.plot(val_ssim, label=\"Validation SSIM\", marker=\"o\")\n",
    "plt.title(\"Train and Validation SSIM\")\n",
    "plt.xlabel(\"Epoch\")\n",
    "plt.ylabel(\"SSIM\")\n",
    "plt.legend()\n",
    "plt.grid()\n",
    "\n",
    "plt.subplot(1, 3, 3)\n",
    "plt.plot(train_psnr, label=\"Train PSNR\", marker=\"o\")\n",
    "plt.plot(val_psnr, label=\"Validation PSNR\", marker=\"o\")\n",
    "plt.title(\"Train and Validation PSNR\")\n",
    "plt.xlabel(\"Epoch\")\n",
    "plt.ylabel(\"PSNR (dB)\")\n",
    "plt.legend()\n",
    "plt.grid()\n",
    "\n",
    "plt.savefig(\"metrics_densenet.png\")\n",
    "plt.show()"
   ]
  }
 ],
 "metadata": {
  "kernelspec": {
   "display_name": "Python 3",
   "language": "python",
   "name": "python3"
  },
  "language_info": {
   "codemirror_mode": {
    "name": "ipython",
    "version": 3
   },
   "file_extension": ".py",
   "mimetype": "text/x-python",
   "name": "python",
   "nbconvert_exporter": "python",
   "pygments_lexer": "ipython3",
   "version": "3.12.7"
  }
 },
 "nbformat": 4,
 "nbformat_minor": 2
}
